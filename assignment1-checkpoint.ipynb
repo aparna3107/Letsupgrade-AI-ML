{
 "cells": [
  {
   "cell_type": "code",
   "execution_count": 25,
   "metadata": {},
   "outputs": [
    {
     "name": "stdout",
     "output_type": "stream",
     "text": [
      "enter first complex number5+6j\n",
      "enter second complex number2+3j\n",
      "The difference between two complex number is =  (3+3j)\n"
     ]
    }
   ],
   "source": [
    "#subtract 2 complex numbers\n",
    "a=input('enter first complex number')\n",
    "b=input('enter second complex number')\n",
    "c=complex(a)-complex(b)\n",
    "print('The difference between two complex number is = ',c)\n"
   ]
  },
  {
   "cell_type": "code",
   "execution_count": 28,
   "metadata": {},
   "outputs": [
    {
     "name": "stdout",
     "output_type": "stream",
     "text": [
      "enter the number256\n",
      "fourth root of 256 is 4\n"
     ]
    }
   ],
   "source": [
    "# fourth root of a number\n",
    "a=int(input('enter the number'))\n",
    "b=a**0.25\n",
    "print(\"fourth root of\",a,\"is\",int(b))\n"
   ]
  },
  {
   "cell_type": "code",
   "execution_count": 35,
   "metadata": {},
   "outputs": [
    {
     "name": "stdout",
     "output_type": "stream",
     "text": [
      "enter first number 5\n",
      "enter second number 14\n",
      "Number1 =  5\n",
      "Number2 =  14\n",
      "After swapping:\n",
      "Number1 =  14\n",
      "Number2 =  5\n"
     ]
    }
   ],
   "source": [
    "#swapping numbers using temporary variable\n",
    "NUM1=input('enter first number ')\n",
    "NUM2=input('enter second number ')\n",
    "print('Number1 = ',NUM1)\n",
    "print('Number2 = ',NUM2)\n",
    "TEMP=NUM1\n",
    "NUM1=NUM2\n",
    "NUM2=TEMP\n",
    "print('After swapping:')\n",
    "print('Number1 = ',NUM1) \n",
    "print('Number2 = ',NUM2)\n"
   ]
  },
  {
   "cell_type": "code",
   "execution_count": 36,
   "metadata": {},
   "outputs": [
    {
     "name": "stdout",
     "output_type": "stream",
     "text": [
      "enter first number 2\n",
      "enter second number 3\n",
      "Number1 =  2\n",
      "Number2 =  3\n",
      "Aftr swapping :\n",
      "Number1 =  3\n",
      "Number2 =  2\n"
     ]
    }
   ],
   "source": [
    "#swap two numbers without temp variable\n",
    "NUM1=int(input('enter first number '))\n",
    "NUM2=int(input('enter second number '))\n",
    "print('Number1 = ',NUM1)\n",
    "print('Number2 = ',NUM2)\n",
    "NUM1=NUM1+NUM2\n",
    "NUM2=NUM1-NUM2\n",
    "NUM1=NUM1-NUM2\n",
    "print('Aftr swapping :')\n",
    "print('Number1 = ',NUM1)\n",
    "print('Number2 = ',NUM2)\n"
   ]
  },
  {
   "cell_type": "code",
   "execution_count": 40,
   "metadata": {},
   "outputs": [
    {
     "name": "stdout",
     "output_type": "stream",
     "text": [
      "enter temp in Farenheit 212\n",
      "equivalent temp in Celsius is 100 and in Kelvin is 373.15\n"
     ]
    }
   ],
   "source": [
    "#Convert Farenheit to Kelvin and Celsius\n",
    "F=int(input('enter temp in Farenheit '))\n",
    "C= int((F-32)*(5/9))\n",
    "K=C+273.15\n",
    "print('equivalent temp in Celsius is',C,'and in Kelvin is',K)\n",
    "            \n",
    "\n",
    "   \n",
    "    \n",
    "    "
   ]
  },
  {
   "cell_type": "code",
   "execution_count": 50,
   "metadata": {},
   "outputs": [
    {
     "name": "stdout",
     "output_type": "stream",
     "text": [
      "type of a is <class 'int'>\n",
      "type of b is <class 'float'>\n",
      "type of c is <class 'str'>\n",
      "type of d is <class 'complex'>\n",
      "type of e is <class 'list'>\n",
      "type of f is <class 'tuple'>\n",
      "type of g is <class 'bytes'>\n"
     ]
    }
   ],
   "source": [
    "#program to demonstrate all available datatypes\n",
    "\n",
    "a=2\n",
    "print('type of a is',type(a))\n",
    "b=2.45\n",
    "print('type of b is',type(b))\n",
    "c='aparna'\n",
    "print('type of c is',type(c))\n",
    "d=2+3j\n",
    "print('type of d is',type(d))\n",
    "e=[2,3,4,5]\n",
    "print('type of e is',type(e))\n",
    "f=(2,3,4,5)\n",
    "print('type of f is',type(f))\n",
    "g= b'124'\n",
    "print('type of g is',type(g))\n"
   ]
  },
  {
   "cell_type": "markdown",
   "metadata": {},
   "source": [
    "\n",
    "    Steps discussed by Darshan sir to create Github profile and upload assignment:-\n",
    "    1)go to github.com and sign in from gmail account\n",
    "    2)create folder in anaconda and save as ipynb format, in tat name folder as assignment1 and save there.\n",
    "    3)Aftr creating file go to github and create a new repository.\n",
    "    4)update repository name as Letsupgrade AI-ML and in description give assignment1,then click on create repository.\n",
    "    5)then a new page opens and there click on \" uploading an existing file\", then go back to folder and drag and drop then press \"comment changes\".\n",
    "    6)now click on repository,folder1(assignment1); copy link from tab then go to lets upgrade link and paste github url then submit.\n",
    "        "
   ]
  },
  {
   "cell_type": "code",
   "execution_count": 53,
   "metadata": {},
   "outputs": [
    {
     "data": {
      "text/plain": [
       "'C:\\\\Users\\\\User'"
      ]
     },
     "execution_count": 53,
     "metadata": {},
     "output_type": "execute_result"
    }
   ],
   "source": [
    "import os\n",
    "os.getcwd()"
   ]
  },
  {
   "cell_type": "code",
   "execution_count": null,
   "metadata": {},
   "outputs": [],
   "source": []
  }
 ],
 "metadata": {
  "kernelspec": {
   "display_name": "Python 3",
   "language": "python",
   "name": "python3"
  },
  "language_info": {
   "codemirror_mode": {
    "name": "ipython",
    "version": 3
   },
   "file_extension": ".py",
   "mimetype": "text/x-python",
   "name": "python",
   "nbconvert_exporter": "python",
   "pygments_lexer": "ipython3",
   "version": "3.7.6"
  }
 },
 "nbformat": 4,
 "nbformat_minor": 4
}
